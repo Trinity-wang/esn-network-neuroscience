{
 "cells": [
  {
   "cell_type": "code",
   "execution_count": 1,
   "metadata": {},
   "outputs": [],
   "source": [
    "import numpy as np\n",
    "import networkx as nx\n",
    "import matplotlib.pyplot as plt\n",
    "%matplotlib inline"
   ]
  },
  {
   "cell_type": "code",
   "execution_count": 2,
   "metadata": {},
   "outputs": [],
   "source": [
    "N_NODES = 200\n",
    "SPECT_RADIUS = 0.9\n",
    "\n",
    "a = 1\n",
    "time_scale = np.ones(N_NODES)*a\n",
    "trainlen = 2200\n",
    "future = 1000\n",
    "buffer = 100"
   ]
  },
  {
   "cell_type": "code",
   "execution_count": 9,
   "metadata": {},
   "outputs": [],
   "source": [
    "import copy\n",
    "\n",
    "def correct_dimensions(s, targetlength):\n",
    "    if s is not None:\n",
    "        s = np.array(s)\n",
    "        if s.ndim == 0:\n",
    "            s = np.array([s] * targetlength)\n",
    "        elif s.ndim == 1:\n",
    "            if not len(s) == targetlength:\n",
    "                raise ValueError(\"arg must have length \" + str(targetlength))\n",
    "        else:\n",
    "            raise ValueError(\"Invalid argument\")\n",
    "    return s\n",
    "\n",
    "\n",
    "def identity(x):\n",
    "    return x\n",
    "\n",
    "def step_function(x):\n",
    "    if x > 0.5:\n",
    "        return 1\n",
    "    else:\n",
    "        return 0\n",
    "    \n",
    "def sigmoid(x):\n",
    "    return 1/(1+np.exp(-10*x+1))\n",
    "\n",
    "\n",
    "class LI_Deep_ESN:\n",
    "    def __init__(self, n_inputs, n_outputs, n_reservoir=200, W=None, W_in=None,\n",
    "                 noise=0.001, input_shift=None, num_layer=None,\n",
    "                 input_scaling=None, feedback_scaling=None,\n",
    "                 teacher_scaling=None, teacher_shift=None,\n",
    "                 out_activation=identity, inverse_out_activation=identity,\n",
    "                 random_state=None, time_scale=None):\n",
    "        # check for proper dimensionality of all arguments and write them down.\n",
    "        self.n_inputs = n_inputs\n",
    "        self.n_reservoir = n_reservoir\n",
    "        self.n_outputs = n_outputs\n",
    "        self.noise = noise\n",
    "        self.input_shift = correct_dimensions(input_shift, n_inputs)\n",
    "        self.input_scaling = correct_dimensions(input_scaling, n_inputs)\n",
    "\n",
    "        self.teacher_scaling = teacher_scaling\n",
    "        self.teacher_shift = teacher_shift\n",
    "\n",
    "        self.out_activation = out_activation\n",
    "        self.inverse_out_activation = inverse_out_activation\n",
    "        self.random_state = random_state\n",
    "        self.time_scale = time_scale\n",
    "        self.W = W\n",
    "        self.W_in = W_in\n",
    "        self.num_layer = num_layer\n",
    "\n",
    "        # the given random_state might be either an actual RandomState object,\n",
    "        # a seed or None (in which case we use numpy's builtin RandomState)\n",
    "        if isinstance(random_state, np.random.RandomState):\n",
    "            self.random_state_ = random_state\n",
    "        elif random_state:\n",
    "            try:\n",
    "                self.random_state_ = np.random.RandomState(random_state)\n",
    "            except TypeError as e:\n",
    "                raise Exception(\"Invalid seed: \" + str(e))\n",
    "        else:\n",
    "            self.random_state_ = np.random.mtrand._rand\n",
    "            \n",
    "    def _scale_inputs(self, inputs):\n",
    "        \"\"\"for each input dimension j: multiplies by the j'th entry in the\n",
    "        input_scaling argument, then adds the j'th entry of the input_shift\n",
    "        argument.\"\"\"\n",
    "        if self.input_scaling is not None:\n",
    "            inputs = np.dot(inputs, np.diag(self.input_scaling))\n",
    "        if self.input_shift is not None:\n",
    "            inputs = inputs + self.input_shift\n",
    "        return inputs\n",
    "    \n",
    "    def _update(self, state, input_pattern):\n",
    "        tmp_state = copy.deepcopy(state)\n",
    "        layer_size = self.W.shape[0]//self.num_layer\n",
    "        preactivation = np.dot(self.W[:layer_size, :layer_size], state[:layer_size]) + np.dot(self.W_in[:layer_size], input_pattern)\n",
    "        \n",
    "        tmp_state[:layer_size] = (1 - self.time_scale[:layer_size]) * state[:layer_size] + self.time_scale[:layer_size] * np.tanh(preactivation)\n",
    "        \n",
    "        for i in range(1, self.num_layer-1):\n",
    "            preactivation = np.dot(self.W[layer_size*i:layer_size*(i+1), layer_size*i:layer_size*(i+1)], state[layer_size*i:layer_size*(i+1)]) \\\n",
    "            + np.dot(self.W[layer_size*(i-1):layer_size*i, layer_size*i:layer_size*(i+1)], state[layer_size*(i-1):layer_size*i])\n",
    "            \n",
    "            tmp_state[layer_size*i:layer_size*(i+1)] = (1-self.time_scale[layer_size*i:layer_size*(i+1)])*state[layer_size*i:layer_size*(i+1)] + self.time_scale[layer_size*(i-1):layer_size*i]*np.tanh(preactivation)\n",
    "        return (tmp_state + self.noise * self.time_scale * (self.random_state_.rand(self.n_reservoir) - 0.5))\n",
    "    \n",
    "\n",
    "    def calc_lyapunov_exp(self, inputs, initial_distance, n):\n",
    "        if inputs.ndim < 2:\n",
    "            inputs = np.reshape(inputs, (len(inputs), -1))\n",
    "        states1 = np.zeros((inputs.shape[0], self.n_reservoir))\n",
    "        states2 = np.zeros((inputs.shape[0], self.n_reservoir))\n",
    "        transient = min(int(inputs.shape[0] / 10), 100)\n",
    "        for i in range(1, transient):\n",
    "            states1[i, :] = self._update(states1[i-1], inputs[i, :])\n",
    "        states2[transient-1, :] = states1[transient-1, :]\n",
    "        states2[transient-1, n] = states2[transient-1, n] + initial_distance\n",
    "        gamma_k_list = []\n",
    "        for k in range(transient, inputs.shape[0]):\n",
    "            states1[k, :] = self._update(states1[k-1], inputs[k, :])\n",
    "            states2[k, :] = self._update(states2[k-1], inputs[k, :])\n",
    "            gamma_k = np.linalg.norm(states2[k, :]-states1[k, :])\n",
    "            gamma_k_list.append(gamma_k/initial_distance)\n",
    "            states2[k, :] = states1[k, :] + (initial_distance/gamma_k)*(states2[k, :]-states1[k, :])\n",
    "        lyapunov_exp = np.mean(np.log(gamma_k_list))\n",
    "        return lyapunov_exp\n",
    "            \n",
    "    \n",
    "    def fit(self, inputs, outputs):\n",
    "        if inputs.ndim < 2:\n",
    "            inputs = np.reshape(inputs, (len(inputs), -1))\n",
    "        if outputs.ndim < 2:\n",
    "            outputs = np.reshape(outputs, (len(outputs), -1))\n",
    "        inputs_scaled = self._scale_inputs(inputs)\n",
    "        teachers_scaled = outputs\n",
    "\n",
    "        # step the reservoir through the given input,output pairs:\n",
    "        states = np.zeros((inputs.shape[0], self.n_reservoir))\n",
    "        for n in range(1, inputs.shape[0]):\n",
    "            states[n, :] = self._update(states[n - 1], inputs_scaled[n, :])\n",
    "        transient = min(int(inputs.shape[0] / 10), 100)\n",
    "        extended_states = np.hstack((states, inputs_scaled))\n",
    "        \n",
    "        self.W_out = np.dot(np.linalg.pinv(extended_states[transient:, :]),teachers_scaled[transient:, :]).T\n",
    "        # print(self.W_out.shape)\n",
    "\n",
    "        # remember the last state for later:\n",
    "        self.laststate = states[-1, :]\n",
    "        self.lastinput = inputs[-1, :]\n",
    "        self.lastoutput = teachers_scaled[-1, :]\n",
    "            \n",
    "        # apply learned weights to the collected states:\n",
    "        pred_train = np.dot(extended_states, self.W_out.T)\n",
    "        return pred_train\n",
    "\n",
    "    def predict(self, inputs, continuation=True):\n",
    "        if inputs.ndim < 2:\n",
    "            inputs = np.reshape(inputs, (len(inputs), -1))\n",
    "        n_samples = inputs.shape[0]\n",
    "\n",
    "        if continuation:\n",
    "            laststate = self.laststate\n",
    "            lastinput = self.lastinput\n",
    "            lastoutput = self.lastoutput\n",
    "        else:\n",
    "            laststate = np.zeros(self.n_reservoir)\n",
    "            lastinput = np.zeros(self.n_inputs)\n",
    "            lastoutput = np.zeros(self.n_outputs)\n",
    "\n",
    "        inputs = np.vstack([lastinput, inputs])\n",
    "        states = np.vstack(\n",
    "            [laststate, np.zeros((n_samples, self.n_reservoir))])\n",
    "        outputs = np.vstack(\n",
    "            [lastoutput, np.zeros((n_samples, self.n_outputs))])\n",
    "\n",
    "        for n in range(n_samples):\n",
    "            states[n + 1, :] = self._update(states[n, :], inputs[n + 1, :])\n",
    "            outputs[n + 1, :] = np.dot(self.W_out,np.concatenate([states[n + 1, :], inputs[n + 1, :]]))\n",
    "\n",
    "        return self.out_activation(outputs[1:])\n",
    "        # print(outputs[1:])\n",
    "        # return np.heaviside(outputs[1:]-0.5, 0)*0.3\n"
   ]
  },
  {
   "cell_type": "code",
   "execution_count": 10,
   "metadata": {},
   "outputs": [],
   "source": [
    "def make_layered_network(N, average_degree, community_number, mu):\n",
    "    assert N % community_number == 0, 'N must be devisible by community_number'\n",
    "    size = N/community_number\n",
    "    G = np.zeros((N, N))\n",
    "    for i in range(N):\n",
    "        com_index = i//size\n",
    "        k_in_prev = 0\n",
    "        k_out_prev = 0\n",
    "        for j in range(int(size*com_index)):\n",
    "            if G[j][i] != 0:\n",
    "                k_out_prev += 1\n",
    "        for j in range(int(size*com_index), int(size*(com_index+1))):\n",
    "            if G[i][j] != 0:\n",
    "                k_in_prev += 1\n",
    "        for j in range(i, N):\n",
    "            if j < size*((i//size)+1):\n",
    "                if int(com_index) == 0 or int(com_index) == community_number-1:\n",
    "                    if np.random.rand() < (average_degree*(1-(mu*0.5))-k_in_prev)/(size-(i-(size*com_index))+1):\n",
    "                        G[i][j] = np.random.randn()\n",
    "                        G[j][i] = np.random.randn()\n",
    "                else:\n",
    "                    if np.random.rand() < (average_degree*(1-mu)-k_in_prev)/(size-(i-(size*com_index))+1):\n",
    "                        G[i][j] = np.random.randn()\n",
    "                        G[j][i] = np.random.randn()\n",
    "            elif j < size*((i//size)+2):\n",
    "                if int(com_index) == 0 or int(com_index) == community_number-1:\n",
    "                    if np.random.rand() < (average_degree*(mu*0.5)-k_out_prev)/size:\n",
    "                        G[i][j] = np.random.randn()\n",
    "                        # G[j][i] = np.random.randn()\n",
    "                else:\n",
    "                    if np.random.rand() < (average_degree*(mu)-k_out_prev)/size:\n",
    "                        G[i][j] = np.random.randn()\n",
    "                        # G[j][i] = np.random.randn()\n",
    "                    \n",
    "    return G"
   ]
  },
  {
   "cell_type": "code",
   "execution_count": 5,
   "metadata": {},
   "outputs": [],
   "source": [
    "def make_data_for_narma(length):\n",
    "    tau = 0.01\n",
    "    buffer = 100\n",
    "    x = np.random.rand(length+100)*0.5\n",
    "    y = np.zeros(length)\n",
    "    for i in range(length):\n",
    "        if i < 29:\n",
    "            y[i] = 0.2*y[i-1] + 0.004*y[i-1]*np.sum(np.hstack((y[i-29:], y[:i]))) + 1.5*x[i-29+100]*x[i+100] + 0.001\n",
    "        else:\n",
    "            y[i] = 0.2*y[i-1] + 0.004*y[i-1]*np.sum(np.hstack((y[i-29:i]))) + 1.5*x[i-29+100]*x[i+100] + 0.001\n",
    "    return x, y"
   ]
  },
  {
   "cell_type": "code",
   "execution_count": 11,
   "metadata": {},
   "outputs": [],
   "source": [
    "def calculate_narma(mu, average_degree, num_community):\n",
    "    narma_list = []\n",
    "    for k in range(30):\n",
    "        W = make_layered_network(N_NODES, average_degree, num_community, mu)\n",
    "        W_IN = (np.random.rand(N_NODES, 1) * 2 - 1)*0.1\n",
    "        W_IN[int(N_NODES/num_community):] = 0\n",
    "        radius = np.max(np.abs(np.linalg.eigvals(W)))\n",
    "        spectral_radius = SPECT_RADIUS\n",
    "        W = W * (spectral_radius / radius)\n",
    "        \n",
    "        data, target = make_data_for_narma(trainlen+future)\n",
    "        \n",
    "        esn = LI_Deep_ESN(n_inputs=1,\n",
    "                          n_outputs=1,\n",
    "                          n_reservoir=N_NODES,\n",
    "                          W=W,\n",
    "                          W_in=W_IN,\n",
    "                          num_layer=num_community,\n",
    "                          noise=0,\n",
    "                          time_scale=time_scale)\n",
    "\n",
    "        pred_training = esn.fit(data[buffer:trainlen+buffer], target[:trainlen])\n",
    "\n",
    "        prediction = esn.predict(data[trainlen+buffer:])\n",
    "        narma_result = np.sqrt(np.mean((np.reshape(prediction, -1)-np.reshape(target[2200:], -1))**2)/np.var(target[2200:]))\n",
    "        # print(memory_capacity_result)\n",
    "        narma_list.append(narma_result)\n",
    "    return np.mean(narma_list), mu"
   ]
  },
  {
   "cell_type": "code",
   "execution_count": 12,
   "metadata": {},
   "outputs": [
    {
     "name": "stdout",
     "output_type": "stream",
     "text": [
      "(0.4164702151196699, 0.1)\n"
     ]
    }
   ],
   "source": [
    "print(calculate_narma(mu=0.1, average_degree=10, num_community=5))"
   ]
  },
  {
   "cell_type": "code",
   "execution_count": 13,
   "metadata": {},
   "outputs": [
    {
     "name": "stdout",
     "output_type": "stream",
     "text": [
      "(0.39795601403021463, 0.1)\n"
     ]
    }
   ],
   "source": [
    "print(calculate_narma(mu=0.1, average_degree=10, num_community=10))"
   ]
  },
  {
   "cell_type": "code",
   "execution_count": 14,
   "metadata": {},
   "outputs": [
    {
     "name": "stdout",
     "output_type": "stream",
     "text": [
      "(0.40294093300077943, 0.2)\n"
     ]
    }
   ],
   "source": [
    "print(calculate_narma(mu=0.2, average_degree=10, num_community=10))"
   ]
  },
  {
   "cell_type": "code",
   "execution_count": 15,
   "metadata": {},
   "outputs": [
    {
     "name": "stdout",
     "output_type": "stream",
     "text": [
      "(0.4023969202279271, 0.3)\n"
     ]
    }
   ],
   "source": [
    "print(calculate_narma(mu=0.3, average_degree=10, num_community=10))"
   ]
  },
  {
   "cell_type": "code",
   "execution_count": 16,
   "metadata": {},
   "outputs": [
    {
     "name": "stdout",
     "output_type": "stream",
     "text": [
      "(0.40288608176791996, 0.4)\n"
     ]
    }
   ],
   "source": [
    "print(calculate_narma(mu=0.4, average_degree=10, num_community=10))"
   ]
  },
  {
   "cell_type": "code",
   "execution_count": 17,
   "metadata": {},
   "outputs": [
    {
     "name": "stdout",
     "output_type": "stream",
     "text": [
      "(0.40190166830307755, 0.1)\n"
     ]
    }
   ],
   "source": [
    "print(calculate_narma(mu=0.1, average_degree=20, num_community=10))"
   ]
  },
  {
   "cell_type": "code",
   "execution_count": 18,
   "metadata": {},
   "outputs": [
    {
     "name": "stdout",
     "output_type": "stream",
     "text": [
      "(0.405280659448433, 0.1)\n"
     ]
    }
   ],
   "source": [
    "print(calculate_narma(mu=0.1, average_degree=20, num_community=5))"
   ]
  },
  {
   "cell_type": "code",
   "execution_count": 19,
   "metadata": {},
   "outputs": [
    {
     "name": "stdout",
     "output_type": "stream",
     "text": [
      "(0.40399802209116964, 0.08)\n"
     ]
    }
   ],
   "source": [
    "print(calculate_narma(mu=0.08, average_degree=20, num_community=5))"
   ]
  },
  {
   "cell_type": "code",
   "execution_count": 20,
   "metadata": {},
   "outputs": [
    {
     "name": "stdout",
     "output_type": "stream",
     "text": [
      "(0.40781368100370247, 0.1)\n"
     ]
    }
   ],
   "source": [
    "print(calculate_narma(mu=0.1, average_degree=10, num_community=20))"
   ]
  },
  {
   "cell_type": "code",
   "execution_count": 21,
   "metadata": {},
   "outputs": [
    {
     "name": "stdout",
     "output_type": "stream",
     "text": [
      "(0.42974557169882205, 0.1)\n"
     ]
    }
   ],
   "source": [
    "print(calculate_narma(mu=0.1, average_degree=20, num_community=1))"
   ]
  },
  {
   "cell_type": "code",
   "execution_count": 22,
   "metadata": {},
   "outputs": [
    {
     "name": "stdout",
     "output_type": "stream",
     "text": [
      "(0.4013313673040777, 0.1)\n"
     ]
    }
   ],
   "source": [
    "print(calculate_narma(mu=0.1, average_degree=40, num_community=10))"
   ]
  },
  {
   "cell_type": "code",
   "execution_count": 23,
   "metadata": {},
   "outputs": [
    {
     "name": "stdout",
     "output_type": "stream",
     "text": [
      "(0.39850120463906474, 0.5)\n"
     ]
    }
   ],
   "source": [
    "print(calculate_narma(mu=0.5, average_degree=40, num_community=10))"
   ]
  },
  {
   "cell_type": "code",
   "execution_count": 24,
   "metadata": {},
   "outputs": [
    {
     "name": "stdout",
     "output_type": "stream",
     "text": [
      "(0.4036010347648434, 0.6)\n"
     ]
    }
   ],
   "source": [
    "print(calculate_narma(mu=0.6, average_degree=20, num_community=10))"
   ]
  },
  {
   "cell_type": "code",
   "execution_count": 25,
   "metadata": {},
   "outputs": [
    {
     "name": "stdout",
     "output_type": "stream",
     "text": [
      "(0.40501308949451253, 0.5)\n"
     ]
    }
   ],
   "source": [
    "print(calculate_narma(mu=0.5, average_degree=40, num_community=10))"
   ]
  },
  {
   "cell_type": "code",
   "execution_count": null,
   "metadata": {},
   "outputs": [],
   "source": []
  }
 ],
 "metadata": {
  "kernelspec": {
   "display_name": "Python 3",
   "language": "python",
   "name": "python3"
  },
  "language_info": {
   "codemirror_mode": {
    "name": "ipython",
    "version": 3
   },
   "file_extension": ".py",
   "mimetype": "text/x-python",
   "name": "python",
   "nbconvert_exporter": "python",
   "pygments_lexer": "ipython3",
   "version": "3.6.4"
  }
 },
 "nbformat": 4,
 "nbformat_minor": 2
}
